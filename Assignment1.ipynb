{
 "cells": [
  {
   "cell_type": "code",
   "execution_count": 1,
   "id": "a3634eb5-2af3-4baa-98c3-3b9575540087",
   "metadata": {},
   "outputs": [
    {
     "data": {
      "text/plain": [
       "'Answer1 = For loop is used when itreation is already known, for example'"
      ]
     },
     "execution_count": 1,
     "metadata": {},
     "output_type": "execute_result"
    }
   ],
   "source": [
    "'''Answer1 = For loop is used when itreation is already known, for example'''"
   ]
  },
  {
   "cell_type": "code",
   "execution_count": 9,
   "id": "88a77eda-2bdf-4fdc-a3fb-a7e4395c4b89",
   "metadata": {},
   "outputs": [
    {
     "name": "stdout",
     "output_type": "stream",
     "text": [
      "1\n",
      "3\n",
      "2\n",
      "3\n",
      "4\n",
      "5\n",
      "6\n",
      "67\n",
      "7\n",
      "8\n"
     ]
    }
   ],
   "source": [
    "l = [1,3,2,3,4,5,6,67,7,8]\n",
    "for i in l:\n",
    "    print(i)"
   ]
  },
  {
   "cell_type": "code",
   "execution_count": 10,
   "id": "4be031e9-836f-4dcc-bd05-45e3180d9b4b",
   "metadata": {},
   "outputs": [
    {
     "data": {
      "text/plain": [
       "'While while is used when iteration is unknown. For example'"
      ]
     },
     "execution_count": 10,
     "metadata": {},
     "output_type": "execute_result"
    }
   ],
   "source": [
    "'''While while is used when iteration is unknown. For example'''"
   ]
  },
  {
   "cell_type": "code",
   "execution_count": 11,
   "id": "f378cff7-367f-4b73-ac66-eb2230a9b4f7",
   "metadata": {},
   "outputs": [
    {
     "name": "stdin",
     "output_type": "stream",
     "text": [
      "Enter your Number 5\n"
     ]
    },
    {
     "name": "stdout",
     "output_type": "stream",
     "text": [
      "15\n"
     ]
    }
   ],
   "source": [
    "a = int(input(\"Enter your Number\"))\n",
    "counter = 1\n",
    "point1 = 0\n",
    "while counter<=a:\n",
    "    point1 = point1 + counter\n",
    "    counter = counter + 1\n",
    "print(point1)"
   ]
  },
  {
   "cell_type": "code",
   "execution_count": null,
   "id": "d144e924-9921-4261-be83-13b7ef9f3e20",
   "metadata": {},
   "outputs": [],
   "source": []
  },
  {
   "cell_type": "code",
   "execution_count": 12,
   "id": "9435007a-2f59-485f-bf8b-b31e18ef5d9b",
   "metadata": {},
   "outputs": [
    {
     "data": {
      "text/plain": [
       "'Answer 2 '"
      ]
     },
     "execution_count": 12,
     "metadata": {},
     "output_type": "execute_result"
    }
   ],
   "source": [
    "'''Answer 2 '''"
   ]
  },
  {
   "cell_type": "code",
   "execution_count": 19,
   "id": "3aa305cf-42d4-43a9-8c72-c89c25f40417",
   "metadata": {},
   "outputs": [
    {
     "name": "stdout",
     "output_type": "stream",
     "text": [
      "55\n"
     ]
    }
   ],
   "source": [
    "\n",
    "b=0\n",
    "for i in range(0,11):\n",
    "    b = b+i\n",
    "    i = i+1\n",
    "print(b)"
   ]
  },
  {
   "cell_type": "code",
   "execution_count": 20,
   "id": "e9a0ac0a-8465-466a-9b68-253f71498a3c",
   "metadata": {},
   "outputs": [
    {
     "name": "stdin",
     "output_type": "stream",
     "text": [
      "Enter Your Natural Number 10\n"
     ]
    },
    {
     "name": "stdout",
     "output_type": "stream",
     "text": [
      "55\n"
     ]
    }
   ],
   "source": [
    "a = int(input(\"Enter Your Natural Number\"))\n",
    "b = 0\n",
    "counter=1\n",
    "while counter<=a:\n",
    "    b = b+counter\n",
    "    counter = counter + 1\n",
    "print(b)"
   ]
  },
  {
   "cell_type": "code",
   "execution_count": null,
   "id": "51858b4d-56d4-4f13-8c74-5a5381228bfb",
   "metadata": {},
   "outputs": [],
   "source": []
  },
  {
   "cell_type": "code",
   "execution_count": null,
   "id": "05979437-ec4f-4a1c-9090-d82a17f5c4a6",
   "metadata": {},
   "outputs": [],
   "source": []
  },
  {
   "cell_type": "code",
   "execution_count": null,
   "id": "cfd3d8ee-f7c9-4b1b-a83e-3c7f6ed1a309",
   "metadata": {},
   "outputs": [],
   "source": []
  },
  {
   "cell_type": "code",
   "execution_count": 22,
   "id": "00670abc-6fdc-40f6-90ac-e32bd0f9bafe",
   "metadata": {},
   "outputs": [
    {
     "data": {
      "text/plain": [
       "'Answer Number = 3'"
      ]
     },
     "execution_count": 22,
     "metadata": {},
     "output_type": "execute_result"
    }
   ],
   "source": [
    "'''Answer Number = 3'''\n"
   ]
  },
  {
   "cell_type": "code",
   "execution_count": 4,
   "id": "d7793d21-2b39-4a96-b8a2-942deee87ff0",
   "metadata": {},
   "outputs": [
    {
     "name": "stdin",
     "output_type": "stream",
     "text": [
      "Enter used unit 310\n"
     ]
    },
    {
     "data": {
      "text/plain": [
       "2250.0"
      ]
     },
     "execution_count": 4,
     "metadata": {},
     "output_type": "execute_result"
    }
   ],
   "source": [
    "inp = int(input(\"Enter used unit\"))\n",
    "price=0\n",
    "if inp<=100:\n",
    "    price=inp*4.5\n",
    "if inp<=200:\n",
    "    price=100*4.5\n",
    "    price+=(inp-100)*6\n",
    "if inp<=300:\n",
    "    price=100*4.5\n",
    "    price+=100*6\n",
    "    price+=(inp-200)*10\n",
    "if inp>300:\n",
    "    price=100*4.5\n",
    "    price+=100*6\n",
    "    price+=100*10\n",
    "    price+=(inp-300)*20\n",
    "price\n",
    "    "
   ]
  },
  {
   "cell_type": "markdown",
   "id": "02f8232c-330a-402b-b293-d70b9a2c63ff",
   "metadata": {},
   "source": [
    "'''Answer 4'''"
   ]
  },
  {
   "cell_type": "code",
   "execution_count": 11,
   "id": "6f4052fb-04a3-45d0-8462-d56edf62c2c8",
   "metadata": {},
   "outputs": [
    {
     "data": {
      "text/plain": [
       "[8,\n",
       " 64,\n",
       " 125,\n",
       " 216,\n",
       " 512,\n",
       " 1000,\n",
       " 1728,\n",
       " 2744,\n",
       " 3375,\n",
       " 4096,\n",
       " 5832,\n",
       " 8000,\n",
       " 10648,\n",
       " 13824,\n",
       " 15625,\n",
       " 17576,\n",
       " 21952,\n",
       " 27000,\n",
       " 32768,\n",
       " 39304,\n",
       " 42875,\n",
       " 46656,\n",
       " 54872,\n",
       " 64000,\n",
       " 74088,\n",
       " 85184,\n",
       " 91125,\n",
       " 97336,\n",
       " 110592,\n",
       " 125000,\n",
       " 140608,\n",
       " 157464,\n",
       " 166375,\n",
       " 175616,\n",
       " 195112,\n",
       " 216000,\n",
       " 238328,\n",
       " 262144,\n",
       " 274625,\n",
       " 287496,\n",
       " 314432,\n",
       " 343000,\n",
       " 373248,\n",
       " 405224,\n",
       " 421875,\n",
       " 438976,\n",
       " 474552,\n",
       " 512000,\n",
       " 551368,\n",
       " 592704,\n",
       " 614125,\n",
       " 636056,\n",
       " 681472,\n",
       " 729000,\n",
       " 778688,\n",
       " 830584,\n",
       " 857375,\n",
       " 884736,\n",
       " 941192,\n",
       " 1000000]"
      ]
     },
     "execution_count": 11,
     "metadata": {},
     "output_type": "execute_result"
    }
   ],
   "source": [
    "ls=[]\n",
    "for i in range(1,101):\n",
    "    if i**3%4==0:\n",
    "        ls.append(i**3)\n",
    "    elif i**3%5==0:\n",
    "        ls.append(i**3)\n",
    "ls\n",
    "        "
   ]
  },
  {
   "cell_type": "code",
   "execution_count": 14,
   "id": "25c099f1-78a9-45b5-83b0-e107a135067a",
   "metadata": {},
   "outputs": [
    {
     "data": {
      "text/plain": [
       "[8,\n",
       " 64,\n",
       " 125,\n",
       " 216,\n",
       " 512,\n",
       " 1000,\n",
       " 1728,\n",
       " 2744,\n",
       " 3375,\n",
       " 4096,\n",
       " 5832,\n",
       " 8000,\n",
       " 10648,\n",
       " 13824,\n",
       " 15625,\n",
       " 17576,\n",
       " 21952,\n",
       " 27000,\n",
       " 32768,\n",
       " 39304,\n",
       " 42875,\n",
       " 46656,\n",
       " 54872,\n",
       " 64000,\n",
       " 74088,\n",
       " 85184,\n",
       " 91125,\n",
       " 97336,\n",
       " 110592,\n",
       " 125000,\n",
       " 140608,\n",
       " 157464,\n",
       " 166375,\n",
       " 175616,\n",
       " 195112,\n",
       " 216000,\n",
       " 238328,\n",
       " 262144,\n",
       " 274625,\n",
       " 287496,\n",
       " 314432,\n",
       " 343000,\n",
       " 373248,\n",
       " 405224,\n",
       " 421875,\n",
       " 438976,\n",
       " 474552,\n",
       " 512000,\n",
       " 551368,\n",
       " 592704,\n",
       " 614125,\n",
       " 636056,\n",
       " 681472,\n",
       " 729000,\n",
       " 778688,\n",
       " 830584,\n",
       " 857375,\n",
       " 884736,\n",
       " 941192,\n",
       " 1000000]"
      ]
     },
     "execution_count": 14,
     "metadata": {},
     "output_type": "execute_result"
    }
   ],
   "source": [
    "ls=[]\n",
    "i=1\n",
    "while i<=100:\n",
    "    if i**3%4==0:\n",
    "        ls.append(i**3)\n",
    "    elif i**3%5==0:\n",
    "        ls.append(i**3)\n",
    "    i+=1\n",
    "ls\n",
    "    "
   ]
  },
  {
   "cell_type": "code",
   "execution_count": 12,
   "id": "898a7609-00ab-452f-b9cb-e3785269fcd3",
   "metadata": {},
   "outputs": [
    {
     "data": {
      "text/plain": [
       "['a', 'o', 'e', 'o', 'e', 'a', 'a', 'a', 'i', 'e', 'i']"
      ]
     },
     "execution_count": 12,
     "metadata": {},
     "output_type": "execute_result"
    }
   ],
   "source": [
    "sent = \"I want to become a data scientist\"\n",
    "v = ['a','e','i','o','u']\n",
    "l1 = []\n",
    "l2 = []\n",
    "for i in sent:\n",
    "    if i in v:\n",
    "        l1.append(i)\n",
    "a = l1.count('a')\n",
    "e,i,o,u = l1.count('e'),l1.count('i'),l1.count('o'),l1.count('u')\n",
    "l2.append(a)\n",
    "l2.append(e)\n",
    "l2.append(i)\n",
    "l2.append(o)\n",
    "l2.append(u)\n",
    "l2\n",
    "l1\n",
    "\n",
    "    \n",
    "    "
   ]
  },
  {
   "cell_type": "code",
   "execution_count": 45,
   "id": "920b4df0-7d39-42e7-98ad-cf971d9e6b09",
   "metadata": {},
   "outputs": [
    {
     "data": {
      "text/plain": [
       "['a', 'a', 'a', 'a']"
      ]
     },
     "execution_count": 45,
     "metadata": {},
     "output_type": "execute_result"
    }
   ],
   "source": [
    "l2"
   ]
  },
  {
   "cell_type": "code",
   "execution_count": null,
   "id": "a623be08-451b-4280-869a-2265d66fd9ba",
   "metadata": {},
   "outputs": [],
   "source": []
  }
 ],
 "metadata": {
  "kernelspec": {
   "display_name": "Python 3 (ipykernel)",
   "language": "python",
   "name": "python3"
  },
  "language_info": {
   "codemirror_mode": {
    "name": "ipython",
    "version": 3
   },
   "file_extension": ".py",
   "mimetype": "text/x-python",
   "name": "python",
   "nbconvert_exporter": "python",
   "pygments_lexer": "ipython3",
   "version": "3.10.8"
  }
 },
 "nbformat": 4,
 "nbformat_minor": 5
}
